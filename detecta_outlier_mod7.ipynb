{
 "cells": [
  {
   "cell_type": "code",
   "execution_count": 1,
   "metadata": {},
   "outputs": [],
   "source": [
    "import pandas as pd\n",
    "import numpy as np\n",
    "import matplotlib.pyplot as plt\n",
    "import sklearn.preprocessing as sklp\n",
    "ohe=sklp.OneHotEncoder()\n"
   ]
  },
  {
   "cell_type": "markdown",
   "metadata": {},
   "source": [
    "## 1"
   ]
  },
  {
   "cell_type": "code",
   "execution_count": 2,
   "metadata": {},
   "outputs": [
    {
     "data": {
      "text/html": [
       "<div>\n",
       "<style scoped>\n",
       "    .dataframe tbody tr th:only-of-type {\n",
       "        vertical-align: middle;\n",
       "    }\n",
       "\n",
       "    .dataframe tbody tr th {\n",
       "        vertical-align: top;\n",
       "    }\n",
       "\n",
       "    .dataframe thead th {\n",
       "        text-align: right;\n",
       "    }\n",
       "</style>\n",
       "<table border=\"1\" class=\"dataframe\">\n",
       "  <thead>\n",
       "    <tr style=\"text-align: right;\">\n",
       "      <th></th>\n",
       "      <th>idade</th>\n",
       "      <th>tempo_educacao</th>\n",
       "      <th>estado_civil</th>\n",
       "      <th>cor</th>\n",
       "      <th>sexo</th>\n",
       "      <th>horas_por_semana</th>\n",
       "      <th>salario_anual</th>\n",
       "      <th>nome</th>\n",
       "      <th>dívida</th>\n",
       "    </tr>\n",
       "  </thead>\n",
       "  <tbody>\n",
       "    <tr>\n",
       "      <th>0</th>\n",
       "      <td>39.0</td>\n",
       "      <td>13</td>\n",
       "      <td>Never-married</td>\n",
       "      <td>White</td>\n",
       "      <td>Male</td>\n",
       "      <td>40</td>\n",
       "      <td>&lt;=50K</td>\n",
       "      <td>NaN</td>\n",
       "      <td>NaN</td>\n",
       "    </tr>\n",
       "    <tr>\n",
       "      <th>1</th>\n",
       "      <td>50.0</td>\n",
       "      <td>13</td>\n",
       "      <td>Married-civ-spouse</td>\n",
       "      <td>White</td>\n",
       "      <td>Male</td>\n",
       "      <td>13</td>\n",
       "      <td>&lt;=50K</td>\n",
       "      <td>NaN</td>\n",
       "      <td>NaN</td>\n",
       "    </tr>\n",
       "    <tr>\n",
       "      <th>2</th>\n",
       "      <td>38.0</td>\n",
       "      <td>9</td>\n",
       "      <td>Divorced</td>\n",
       "      <td>White</td>\n",
       "      <td>Male</td>\n",
       "      <td>40</td>\n",
       "      <td>&lt;=50K</td>\n",
       "      <td>NaN</td>\n",
       "      <td>NaN</td>\n",
       "    </tr>\n",
       "    <tr>\n",
       "      <th>3</th>\n",
       "      <td>53.0</td>\n",
       "      <td>7</td>\n",
       "      <td>Married-civ-spouse</td>\n",
       "      <td>Black</td>\n",
       "      <td>Male</td>\n",
       "      <td>40</td>\n",
       "      <td>&lt;=50K</td>\n",
       "      <td>NaN</td>\n",
       "      <td>NaN</td>\n",
       "    </tr>\n",
       "    <tr>\n",
       "      <th>4</th>\n",
       "      <td>37.0</td>\n",
       "      <td>14</td>\n",
       "      <td>Married-civ-spouse</td>\n",
       "      <td>White</td>\n",
       "      <td>Female</td>\n",
       "      <td>40</td>\n",
       "      <td>&lt;=50K</td>\n",
       "      <td>NaN</td>\n",
       "      <td>NaN</td>\n",
       "    </tr>\n",
       "  </tbody>\n",
       "</table>\n",
       "</div>"
      ],
      "text/plain": [
       "   idade  tempo_educacao        estado_civil    cor    sexo  horas_por_semana  \\\n",
       "0   39.0              13       Never-married  White    Male                40   \n",
       "1   50.0              13  Married-civ-spouse  White    Male                13   \n",
       "2   38.0               9            Divorced  White    Male                40   \n",
       "3   53.0               7  Married-civ-spouse  Black    Male                40   \n",
       "4   37.0              14  Married-civ-spouse  White  Female                40   \n",
       "\n",
       "  salario_anual  nome  dívida  \n",
       "0         <=50K   NaN     NaN  \n",
       "1         <=50K   NaN     NaN  \n",
       "2         <=50K   NaN     NaN  \n",
       "3         <=50K   NaN     NaN  \n",
       "4         <=50K   NaN     NaN  "
      ]
     },
     "execution_count": 2,
     "metadata": {},
     "output_type": "execute_result"
    }
   ],
   "source": [
    "df=pd.read_csv(\"dataframe_exercicio_modulo_7.csv\")\n",
    "df.head()"
   ]
  },
  {
   "cell_type": "markdown",
   "metadata": {},
   "source": [
    "## 2"
   ]
  },
  {
   "cell_type": "code",
   "execution_count": null,
   "metadata": {},
   "outputs": [],
   "source": [
    "print(df.shape)"
   ]
  },
  {
   "cell_type": "markdown",
   "metadata": {},
   "source": [
    "### Temos 29170 linhas e 9 colunas."
   ]
  },
  {
   "cell_type": "markdown",
   "metadata": {},
   "source": [
    "## 3"
   ]
  },
  {
   "cell_type": "code",
   "execution_count": null,
   "metadata": {},
   "outputs": [],
   "source": [
    "print(df.dtypes)"
   ]
  },
  {
   "cell_type": "markdown",
   "metadata": {},
   "source": [
    "## 4"
   ]
  },
  {
   "cell_type": "code",
   "execution_count": null,
   "metadata": {},
   "outputs": [],
   "source": [
    "print((df.isnull().sum()/df.shape[0]).round(3))"
   ]
  },
  {
   "cell_type": "markdown",
   "metadata": {},
   "source": [
    "### Temos as variáveis nome e dívida com 100% dos dados faltantes e idade com 0.3% dos dados missing."
   ]
  },
  {
   "cell_type": "markdown",
   "metadata": {},
   "source": [
    "## 5"
   ]
  },
  {
   "cell_type": "code",
   "execution_count": null,
   "metadata": {},
   "outputs": [],
   "source": [
    "print(\"Cor \\n \\n\",df.cor.value_counts(),\"\\n\")\n",
    "print(\"Sexo \\n \\n\",df.sexo.value_counts(),\"\\n\")\n",
    "print(\"Estado civil \\n \\n\",df.estado_civil.value_counts(),\"\\n\")"
   ]
  },
  {
   "cell_type": "markdown",
   "metadata": {},
   "source": [
    "### È possível analisar que a variável sexo possui alguns dados faltantes que não são computados na função \"isnull\""
   ]
  },
  {
   "cell_type": "markdown",
   "metadata": {},
   "source": [
    "## 6"
   ]
  },
  {
   "cell_type": "code",
   "execution_count": null,
   "metadata": {},
   "outputs": [],
   "source": [
    "dict_sexo={\"?\":\"male\",\"Male\":\"male\",\"Female\":\"female\"}"
   ]
  },
  {
   "cell_type": "code",
   "execution_count": null,
   "metadata": {},
   "outputs": [],
   "source": [
    "df.sexo=df.sexo.map(dict_sexo)\n",
    "df.drop([\"nome\",\"dívida\"],axis=1,inplace=True)\n",
    "media_idade=df.idade.mean()\n",
    "df.idade=df.idade.fillna(media_idade)\n"
   ]
  },
  {
   "cell_type": "code",
   "execution_count": null,
   "metadata": {},
   "outputs": [],
   "source": [
    "df.head()"
   ]
  },
  {
   "cell_type": "code",
   "execution_count": null,
   "metadata": {},
   "outputs": [],
   "source": [
    "df.isnull().sum()"
   ]
  },
  {
   "cell_type": "markdown",
   "metadata": {},
   "source": [
    "#### Adicionamos a moda na variável sexo nos valores missing \"?\", dropamos as variaveis nome e dívida e substituímos os valores missing da idade pela sua média"
   ]
  },
  {
   "cell_type": "markdown",
   "metadata": {},
   "source": [
    "## 7"
   ]
  },
  {
   "cell_type": "code",
   "execution_count": null,
   "metadata": {},
   "outputs": [],
   "source": [
    "mm_scaler=sklp.MinMaxScaler()\n",
    "ss_scaler=sklp.StandardScaler()"
   ]
  },
  {
   "cell_type": "code",
   "execution_count": null,
   "metadata": {},
   "outputs": [],
   "source": [
    "mm_tempo=df.tempo_educacao.values.reshape(-1,1)\n",
    "ss_horas=df.horas_por_semana.values.reshape(-1,1)"
   ]
  },
  {
   "cell_type": "markdown",
   "metadata": {},
   "source": [
    "### MinMax"
   ]
  },
  {
   "cell_type": "code",
   "execution_count": null,
   "metadata": {},
   "outputs": [],
   "source": [
    "mm_scaler.fit(mm_tempo)"
   ]
  },
  {
   "cell_type": "code",
   "execution_count": null,
   "metadata": {},
   "outputs": [],
   "source": [
    "mm_scaler.transform(mm_tempo).round(3)"
   ]
  },
  {
   "cell_type": "markdown",
   "metadata": {},
   "source": [
    "### SS"
   ]
  },
  {
   "cell_type": "code",
   "execution_count": null,
   "metadata": {},
   "outputs": [],
   "source": [
    "ss_scaler.fit(ss_horas)"
   ]
  },
  {
   "cell_type": "code",
   "execution_count": null,
   "metadata": {},
   "outputs": [],
   "source": [
    "ss_scaler.transform(ss_horas).round(4)"
   ]
  },
  {
   "cell_type": "code",
   "execution_count": null,
   "metadata": {},
   "outputs": [],
   "source": [
    "df1=pd.DataFrame(np.c_[mm_scaler.transform(mm_tempo),ss_scaler.transform(ss_horas)],columns=[\"MinMax_tempo\",\"Standard_horas\"])\n",
    "df1.head()"
   ]
  },
  {
   "cell_type": "markdown",
   "metadata": {},
   "source": [
    "## 8"
   ]
  },
  {
   "cell_type": "code",
   "execution_count": null,
   "metadata": {},
   "outputs": [],
   "source": [
    "ohe_estciv=(df.estado_civil.values.reshape(-1,1))\n",
    "ohe_cor=df.cor.values.reshape(-1,1)\n",
    "ohe_sexo=df.sexo.values.reshape(-1,1)\n"
   ]
  },
  {
   "cell_type": "code",
   "execution_count": null,
   "metadata": {},
   "outputs": [],
   "source": [
    "ohe.fit(ohe_estciv)\n"
   ]
  },
  {
   "cell_type": "code",
   "execution_count": null,
   "metadata": {},
   "outputs": [],
   "source": [
    "ohe.transform(ohe_estciv).toarray()"
   ]
  },
  {
   "cell_type": "code",
   "execution_count": null,
   "metadata": {},
   "outputs": [],
   "source": [
    "ohe.fit(ohe_sexo)"
   ]
  },
  {
   "cell_type": "code",
   "execution_count": null,
   "metadata": {},
   "outputs": [],
   "source": [
    "ohe.transform(ohe_sexo).toarray()"
   ]
  },
  {
   "cell_type": "code",
   "execution_count": null,
   "metadata": {},
   "outputs": [],
   "source": [
    "ohe.fit(ohe_cor)"
   ]
  },
  {
   "cell_type": "code",
   "execution_count": null,
   "metadata": {},
   "outputs": [],
   "source": [
    "ohe.transform(ohe_cor).toarray()"
   ]
  },
  {
   "cell_type": "markdown",
   "metadata": {},
   "source": [
    "## 9"
   ]
  },
  {
   "cell_type": "code",
   "execution_count": null,
   "metadata": {},
   "outputs": [],
   "source": [
    "def detecta_out(x,lim=1.5):\n",
    "    q=np.percentile(x,75)-np.percentile(x,25)\n",
    "    lim_sup=np.minimum(np.percentile(x,75)+lim*q,np.max(x))\n",
    "    lim_inf=np.maximum(np.percentile(x,25)-lim*q,np.min(x))\n",
    "    return np.where((x<lim_inf)|(x>lim_sup),1,0)"
   ]
  },
  {
   "cell_type": "code",
   "execution_count": null,
   "metadata": {},
   "outputs": [],
   "source": [
    "detecta_out(df.idade)"
   ]
  },
  {
   "cell_type": "code",
   "execution_count": null,
   "metadata": {},
   "outputs": [],
   "source": [
    "df[\"out_idade\"]=detecta_out(df.idade)\n",
    "df.head()"
   ]
  },
  {
   "cell_type": "code",
   "execution_count": null,
   "metadata": {},
   "outputs": [],
   "source": [
    "df2=df[df.out_idade==0]"
   ]
  },
  {
   "cell_type": "code",
   "execution_count": null,
   "metadata": {},
   "outputs": [],
   "source": [
    "df2.out_idade.value_counts()"
   ]
  },
  {
   "cell_type": "markdown",
   "metadata": {},
   "source": [
    "## 10"
   ]
  },
  {
   "cell_type": "code",
   "execution_count": null,
   "metadata": {},
   "outputs": [],
   "source": [
    "def preprocessamento(df,num_faltante,cat_faltante,col_ohe,col_mmscaler,col_ssscaler,col_outlier):\n",
    "    import pandas as pd\n",
    "    import numpy as np\n",
    "    import sklearn.preprocessing as sklp\n",
    "    \n",
    "    dff=df.copy()\n",
    "    temp=(df.isnull().sum()/df.shape[0])>=0.8\n",
    "    var_faltantes=temp.loc[temp==True].index.tolist()\n",
    "    for v in var_faltantes:\n",
    "        dff=dff.drop(v,axis=1)\n",
    "    \n",
    "    num_faltante=list(set(num_faltante).intersection(set(dff.columns.tolist())))\n",
    "    cat_faltante=list(set(cat_faltante).intersection(set(dff.columns.tolist())))\n",
    "    col_ohe=list(set(col_ohe).intersection(set(dff.columns.tolist())))\n",
    "    col_mmscaler=list(set(col_mmscaler).intersection(set(dff.columns.tolist())))\n",
    "    col_ssscaler=list(set(col_ssscaler).intersection(set(dff.columns.tolist())))\n",
    "    col_outlier=list(set(col_outlier).intersection(set(dff.columns.tolist())))\n",
    "    \n",
    "    for v in num_faltante:\n",
    "        dff[v]=dff[v].fillna(dff[v].mean())\n",
    "    for v in cat_faltante:\n",
    "        moda=dff[v].value_counts().idxmax()\n",
    "        dff[v]=dff[v].fillna(moda)\n",
    "    for v in col_ohe:\n",
    "        ohe=sklp.OneHotEncoder()\n",
    "        x=dff[v].values.reshape(-1,1)\n",
    "        ohe.fit(x)\n",
    "        dff1=pd.DataFrame(ohe.transform(x).toarray(),columns=list(ohe.categories_[0]))\n",
    "        \n",
    "    for v in col_mmscaler:\n",
    "        mm_scaler=sklp.MinMaxScaler()\n",
    "        y=dff[v].values.reshape(-1,1)\n",
    "        mm_scaler.fit(y)\n",
    "        dff2=pd.DataFrame(data=mm_scaler.transform(y),columns=[\"MinMax_tempo\"])\n",
    "    for v in col_ssscaler:\n",
    "        ss_scaler=sklp.StandardScaler()\n",
    "        z=dff[v].values.reshape(-1,1)\n",
    "        ss_scaler.fit(z)\n",
    "        dff3=pd.DataFrame(ss_scaler.transform(z),columns=[\"norm_padrao_horas\"])\n",
    "    for v in col_outlier:\n",
    "        lim=1.5\n",
    "        q=np.percentile(dff[v],75)-np.percentile(dff[v],25)\n",
    "        lim_sup=np.minimum(np.percentile(dff[v],75)+lim*q,np.max(dff[v]))\n",
    "        lim_inf=np.maximum(np.percentile(dff[v],25)-lim*q,np.min(dff[v]))\n",
    "        dff4= pd.DataFrame(np.c_[np.where((dff[v]<lim_inf)|(dff[v]>lim_sup),1,0)],columns=[\"out_idade1\"])\n",
    "    dff=pd.concat([dff,dff1,dff2,dff3,dff4],axis=1)\n",
    "    return dff    "
   ]
  },
  {
   "cell_type": "code",
   "execution_count": null,
   "metadata": {},
   "outputs": [],
   "source": [
    "dff=preprocessamento(df=df,num_faltante=[\"idade\"],cat_faltante=[\"sexo\"],col_ohe=[\"cor\"],col_mmscaler=[\"tempo_educacao\"],col_ssscaler=[\"horas_por_semana\"],col_outlier=[\"idade\"])"
   ]
  },
  {
   "cell_type": "code",
   "execution_count": null,
   "metadata": {},
   "outputs": [],
   "source": [
    "dff.columns"
   ]
  },
  {
   "cell_type": "code",
   "execution_count": null,
   "metadata": {},
   "outputs": [],
   "source": [
    "dff.head()"
   ]
  },
  {
   "cell_type": "code",
   "execution_count": null,
   "metadata": {},
   "outputs": [],
   "source": []
  }
 ],
 "metadata": {
  "kernelspec": {
   "display_name": "Python 3",
   "language": "python",
   "name": "python3"
  },
  "language_info": {
   "codemirror_mode": {
    "name": "ipython",
    "version": 3
   },
   "file_extension": ".py",
   "mimetype": "text/x-python",
   "name": "python",
   "nbconvert_exporter": "python",
   "pygments_lexer": "ipython3",
   "version": "3.8.3"
  }
 },
 "nbformat": 4,
 "nbformat_minor": 4
}
