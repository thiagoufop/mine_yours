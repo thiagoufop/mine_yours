{
 "cells": [
  {
   "cell_type": "code",
   "execution_count": null,
   "metadata": {},
   "outputs": [],
   "source": [
    "import pandas as pd\n",
    "import numpy as np\n",
    "import matplotlib.pyplot as plt\n",
    "import sklearn.linear_model as skll"
   ]
  },
  {
   "cell_type": "code",
   "execution_count": null,
   "metadata": {},
   "outputs": [],
   "source": [
    "df =pd.read_csv(\"dataframe_exercicio_modulo_8.csv\")\n",
    "df.head()"
   ]
  },
  {
   "cell_type": "code",
   "execution_count": null,
   "metadata": {},
   "outputs": [],
   "source": [
    "df.corr()[[\"crimes\"]]"
   ]
  },
  {
   "cell_type": "markdown",
   "metadata": {},
   "source": [
    "## 1 "
   ]
  },
  {
   "cell_type": "markdown",
   "metadata": {},
   "source": [
    "### deve-se entrar com percentil 'per', algum valor entre 0 e 1 correspondente à porcentagem do dataframe de treino"
   ]
  },
  {
   "cell_type": "code",
   "execution_count": null,
   "metadata": {},
   "outputs": [],
   "source": [
    "def df_slice(df,per):\n",
    "    x=int(round(df.shape[0]*per,0))\n",
    "    df_treino=df.iloc[0:x]\n",
    "    df_teste=df.iloc[x:]\n",
    "    return df_treino,df_teste\n"
   ]
  },
  {
   "cell_type": "code",
   "execution_count": null,
   "metadata": {},
   "outputs": [],
   "source": [
    "df_treino,df_teste=df_slice(df=df,per=0.7)"
   ]
  },
  {
   "cell_type": "code",
   "execution_count": null,
   "metadata": {},
   "outputs": [],
   "source": [
    "df_teste"
   ]
  },
  {
   "cell_type": "markdown",
   "metadata": {},
   "source": [
    "## 2.1"
   ]
  },
  {
   "cell_type": "markdown",
   "metadata": {},
   "source": [
    "## Foi escolhida a variável taxa de criminalidade para ser a nossa variável preditora devido a sua maior correlação com a nossa variável target crimes."
   ]
  },
  {
   "cell_type": "code",
   "execution_count": null,
   "metadata": {},
   "outputs": [],
   "source": [
    "df1=df_treino\n",
    "df2=df_teste"
   ]
  },
  {
   "cell_type": "code",
   "execution_count": null,
   "metadata": {},
   "outputs": [],
   "source": [
    "x=df1.taxa_crim\n",
    "y=df1.crimes\n",
    "\n",
    "plt.figure(figsize=[10,6])\n",
    "plt.scatter(x,y)\n",
    "plt.xticks(range(0,100,10))\n",
    "plt.xlabel(\"Taxa de criminalidade\",fontsize=16)\n",
    "plt.ylabel(\"Número de crimes\",fontsize=16)\n",
    "plt.grid()\n",
    "plt.show()"
   ]
  },
  {
   "cell_type": "code",
   "execution_count": null,
   "metadata": {},
   "outputs": [],
   "source": [
    "lr=skll.LinearRegression()"
   ]
  },
  {
   "cell_type": "code",
   "execution_count": null,
   "metadata": {},
   "outputs": [],
   "source": [
    "x=x.values.reshape(-1,1)\n",
    "y=y.values.reshape(-1,1)"
   ]
  },
  {
   "cell_type": "code",
   "execution_count": null,
   "metadata": {},
   "outputs": [],
   "source": [
    "lr.fit(x,y)"
   ]
  },
  {
   "cell_type": "code",
   "execution_count": null,
   "metadata": {},
   "outputs": [],
   "source": [
    "y_pred=lr.predict(x)"
   ]
  },
  {
   "cell_type": "code",
   "execution_count": null,
   "metadata": {},
   "outputs": [],
   "source": [
    "y_pred"
   ]
  },
  {
   "cell_type": "code",
   "execution_count": null,
   "metadata": {},
   "outputs": [],
   "source": [
    "plt.figure(figsize=[15,8])\n",
    "plt.scatter(x,y)\n",
    "plt.xticks(range(0,110,10))\n",
    "plt.grid()\n",
    "plt.plot(x,y_pred,c=\"black\",lw=4)\n",
    "plt.show()"
   ]
  },
  {
   "cell_type": "code",
   "execution_count": null,
   "metadata": {},
   "outputs": [],
   "source": [
    "def rmse(y,y_pred):\n",
    "    return np.sqrt(np.mean((y-y_pred)**2))"
   ]
  },
  {
   "cell_type": "code",
   "execution_count": null,
   "metadata": {},
   "outputs": [],
   "source": [
    "rmse(y=y,y_pred=y_pred)"
   ]
  },
  {
   "cell_type": "code",
   "execution_count": null,
   "metadata": {},
   "outputs": [],
   "source": [
    "import sklearn.neighbors as skln"
   ]
  },
  {
   "cell_type": "code",
   "execution_count": null,
   "metadata": {},
   "outputs": [],
   "source": [
    "x1=df1.taxa_crim.values.reshape(-1,1)\n",
    "y1=df1.crimes.values"
   ]
  },
  {
   "cell_type": "code",
   "execution_count": null,
   "metadata": {},
   "outputs": [],
   "source": [
    "plt.figure(figsize=[30,15])\n",
    "lista=list(np.arange(1,11,1))\n",
    "k1=1\n",
    "\n",
    "for i in lista:\n",
    "    knn =skln.KNeighborsRegressor(n_neighbors=i) .fit(x1, y1)\n",
    "    rmse_knn = np.round(rmse(y = y1, y_pred = knn.predict(x1)), 2)\n",
    "    \n",
    "    plt.subplot(2,5,k1)\n",
    "    plt.title(\"K = \"+str(i)+\" | RMSE: \" + str(rmse_knn), fontsize = 20, fontweight = 'bold')\n",
    "    plt.plot(x1, knn.predict(x1), c = 'black', lw = 1)\n",
    "    plt.scatter(df.taxa_crim, df.crimes, s = 100, c = 'gray')\n",
    "    plt.grid()\n",
    "    k1=k1+1\n",
    "\n",
    "plt.show()"
   ]
  },
  {
   "cell_type": "code",
   "execution_count": null,
   "metadata": {},
   "outputs": [],
   "source": [
    "x2=df2.taxa_crim.values.reshape(-1,1)\n",
    "y2=df2.crimes.values\n"
   ]
  },
  {
   "cell_type": "code",
   "execution_count": null,
   "metadata": {},
   "outputs": [],
   "source": [
    "def plota_curva_regressao(X, y, Xnovo, ynovo, modelo, nome_modelo):\n",
    "    \n",
    "    modelo.fit(X, y)\n",
    "    \n",
    "    predicao_dataset_treino = modelo.predict(X)\n",
    "    predicao_dataset_novo = modelo.predict(Xnovo)\n",
    "    \n",
    "    rmse_dataset_treino = np.round(rmse(y = y, y_pred = predicao_dataset_treino), 2)\n",
    "    rmse_dataset_novo = np.round(rmse(y = ynovo, y_pred = predicao_dataset_novo), 2)\n",
    "    \n",
    "    plt.figure(figsize = [20,6])\n",
    "    plt.subplot(1,2,1)\n",
    "    plt.title(\"Modelo: \" + nome_modelo + \" ~ RMSE DATASET TREINO: \" + str(rmse_dataset_treino),\n",
    "              fontsize = 14, fontweight = 'bold')\n",
    "    plt.scatter(X, y, c = 'gray', s = 100)\n",
    "    plt.plot(X, predicao_dataset_treino, c = 'blue', lw = 2, label = 'predição ')\n",
    "    plt.legend(fontsize = 14)\n",
    "    plt.grid()\n",
    "    plt.subplot(1,2,2)\n",
    "    plt.title(\"Modelo: \" + nome_modelo + \" ~ RMSE DATASET NOVO: \" + str(rmse_dataset_novo),\n",
    "              fontsize = 14, fontweight = 'bold')\n",
    "    plt.scatter(Xnovo, ynovo, c = 'gray', s = 100)\n",
    "    plt.plot(Xnovo, predicao_dataset_novo, c = 'blue', lw = 2, label = 'predição ')\n",
    "    plt.legend(fontsize = 14)\n",
    "    plt.grid()\n",
    "    plt.show()"
   ]
  },
  {
   "cell_type": "code",
   "execution_count": null,
   "metadata": {},
   "outputs": [],
   "source": [
    "modelo=skll.LinearRegression()\n",
    "nome_modelo=\"regressãao linear\"\n",
    "plota_curva_regressao(x1,y1,x2,y2,modelo,nome_modelo)"
   ]
  },
  {
   "cell_type": "markdown",
   "metadata": {},
   "source": [
    "#### no modelo de regressão linear podemos observar que não está ocorrendo overfitting"
   ]
  },
  {
   "cell_type": "code",
   "execution_count": null,
   "metadata": {},
   "outputs": [],
   "source": [
    "modelo=skln.KNeighborsRegressor(n_neighbors=3)\n",
    "nome_modelo=(\"knn 3 vizinhos\")\n",
    "plota_curva_regressao(x1,y1,x2,y2,modelo,nome_modelo)"
   ]
  },
  {
   "cell_type": "markdown",
   "metadata": {},
   "source": [
    "#### No modelo knn com 3 vizinhoss podemos verificar a ocorrencia de overfitting devido a diferença considerável entre o rmse de treino e o rmse de teste"
   ]
  },
  {
   "cell_type": "code",
   "execution_count": null,
   "metadata": {},
   "outputs": [],
   "source": [
    "modelo=skln.KNeighborsRegressor(n_neighbors=1)\n",
    "nome_modelo=(\"knn 1 vizinhos\")\n",
    "plota_curva_regressao(x1,y1,x2,y2,modelo,nome_modelo)"
   ]
  },
  {
   "cell_type": "markdown",
   "metadata": {},
   "source": [
    "#### No modelo knn com 1 vizinhoss podemos verificar a ocorrencia de overfitting devido a grande diferença entre o rmse de treino e o rmse de teste"
   ]
  },
  {
   "cell_type": "code",
   "execution_count": null,
   "metadata": {},
   "outputs": [],
   "source": [
    "modelo=skln.KNeighborsRegressor(n_neighbors=7)\n",
    "nome_modelo=(\"knn 7 vizinhos\")\n",
    "plota_curva_regressao(x1,y1,x2,y2,modelo,nome_modelo)"
   ]
  },
  {
   "cell_type": "markdown",
   "metadata": {},
   "source": [
    "#### No modelo knn com 7 vizinhos ja nao é possível observar uma diferença tão significativa entre o rmse de treino e o rmse de teste, portanto nao está ocorrendo overfitting. "
   ]
  },
  {
   "cell_type": "code",
   "execution_count": null,
   "metadata": {},
   "outputs": [],
   "source": [
    "modelo=skln.KNeighborsRegressor(n_neighbors=15)\n",
    "nome_modelo=(\"knn 15 vizinhos\")\n",
    "plota_curva_regressao(x1,y1,x2,y2,modelo,nome_modelo)"
   ]
  },
  {
   "cell_type": "markdown",
   "metadata": {},
   "source": [
    "#### no modelo knn com 15 vizinhos foi observada uma diferença minima entre o rmse de treino e o rmse de teste, se configurando como o modelo ideal para tal estudo."
   ]
  },
  {
   "cell_type": "markdown",
   "metadata": {},
   "source": [
    "## 2.2"
   ]
  },
  {
   "cell_type": "code",
   "execution_count": null,
   "metadata": {},
   "outputs": [],
   "source": [
    "x3=df1[[\"perc_pol\",\"taxa_crim\",\"nivel_ed\"]].values\n",
    "x4=df2[[\"perc_pol\",\"taxa_crim\",\"nivel_ed\"]].values\n",
    "knn=skln.KNeighborsRegressor(n_neighbors=8)\n",
    "knn.fit(x3,y1)"
   ]
  },
  {
   "cell_type": "code",
   "execution_count": null,
   "metadata": {},
   "outputs": [],
   "source": [
    "num_crimes=np.array([[100,100,10]])\n",
    "np.round(knn.predict(num_crimes),0)"
   ]
  },
  {
   "cell_type": "markdown",
   "metadata": {},
   "source": [
    "## ficou meio vago pra mim a utilização de mais de uma variável."
   ]
  },
  {
   "cell_type": "code",
   "execution_count": null,
   "metadata": {},
   "outputs": [],
   "source": []
  }
 ],
 "metadata": {
  "kernelspec": {
   "display_name": "Python 3",
   "language": "python",
   "name": "python3"
  },
  "language_info": {
   "codemirror_mode": {
    "name": "ipython",
    "version": 3
   },
   "file_extension": ".py",
   "mimetype": "text/x-python",
   "name": "python",
   "nbconvert_exporter": "python",
   "pygments_lexer": "ipython3",
   "version": "3.8.3"
  }
 },
 "nbformat": 4,
 "nbformat_minor": 4
}
